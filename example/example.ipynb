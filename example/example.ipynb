{
 "cells": [
  {
   "cell_type": "code",
   "execution_count": 2,
   "id": "567aba90",
   "metadata": {},
   "outputs": [],
   "source": [
    "from knn_levenshtein import knn_clusters\n",
    "import pandas as pd"
   ]
  },
  {
   "cell_type": "markdown",
   "id": "8a8f876e",
   "metadata": {},
   "source": [
    "# サンプルデータの例"
   ]
  },
  {
   "cell_type": "code",
   "execution_count": 3,
   "id": "d1e59dab",
   "metadata": {},
   "outputs": [],
   "source": [
    "df = pd.Series(['writers', 'winters', 'winters', 'abcdefg'],dtype='string')"
   ]
  },
  {
   "cell_type": "code",
   "execution_count": 4,
   "id": "255fecdb",
   "metadata": {},
   "outputs": [],
   "source": [
    "clusters = knn_clusters(data=df,threshold=0.7,minsize=2,ngram_n=4)"
   ]
  },
  {
   "cell_type": "code",
   "execution_count": 5,
   "id": "eb10bdb1",
   "metadata": {},
   "outputs": [
    {
     "data": {
      "text/plain": [
       "[Cluster({'winters': 2, 'writers': 1}), Cluster({'writers': 1, 'winters': 2})]"
      ]
     },
     "execution_count": 5,
     "metadata": {},
     "output_type": "execute_result"
    }
   ],
   "source": [
    "clusters"
   ]
  },
  {
   "cell_type": "code",
   "execution_count": 6,
   "id": "becaa05f",
   "metadata": {},
   "outputs": [
    {
     "data": {
      "text/plain": [
       "'winters'"
      ]
     },
     "execution_count": 6,
     "metadata": {},
     "output_type": "execute_result"
    }
   ],
   "source": [
    "clusters[0].suggestion()"
   ]
  },
  {
   "cell_type": "markdown",
   "id": "e8dd6c8b",
   "metadata": {},
   "source": [
    "# リアルデータの例"
   ]
  },
  {
   "cell_type": "markdown",
   "id": "c4a1348d",
   "metadata": {},
   "source": [
    "元データ: https://github.com/VIDA-NYU/openclean-core/tree/718c03e4195bb01be96e4792d292843cd253e2fc/examples/notebooks/nyc-restaurant-inspections/data"
   ]
  },
  {
   "cell_type": "code",
   "execution_count": 7,
   "id": "2df1f065",
   "metadata": {},
   "outputs": [],
   "source": [
    "datafile = 'data/43nn-pn8j.tsv'\n",
    "df = pd.read_table(datafile)"
   ]
  },
  {
   "cell_type": "code",
   "execution_count": 8,
   "id": "595b9255",
   "metadata": {},
   "outputs": [],
   "source": [
    "df = df[df['DBA'].notna()]\n",
    "dba = df['DBA']\n",
    "dba = dba.astype('string')"
   ]
  },
  {
   "cell_type": "code",
   "execution_count": 15,
   "id": "bac82aaa",
   "metadata": {},
   "outputs": [],
   "source": [
    "clusters = knn_clusters(\n",
    "    data=dba,\n",
    "    threshold=0.9,\n",
    "    minsize=5\n",
    ")"
   ]
  },
  {
   "cell_type": "code",
   "execution_count": 16,
   "id": "ccbe33c2",
   "metadata": {},
   "outputs": [
    {
     "name": "stdout",
     "output_type": "stream",
     "text": [
      "21 clusters of size 5 or greater\n"
     ]
    }
   ],
   "source": [
    "print('{} clusters of size {} or greater'.format(len(clusters), 5))"
   ]
  },
  {
   "cell_type": "code",
   "execution_count": 17,
   "id": "3389ec67",
   "metadata": {},
   "outputs": [],
   "source": [
    "def print_cluster(cnumber, cluster):\n",
    "    print('Cluster {} (of size {})\\n'.format(cnumber, len(cluster)))\n",
    "    for val, count in cluster.items():\n",
    "        print('{} ({})'.format(val, count))\n",
    "    print('\\nSuggested value: {}\\n\\n'.format(cluster.suggestion()))"
   ]
  },
  {
   "cell_type": "code",
   "execution_count": 18,
   "id": "780d71ed",
   "metadata": {},
   "outputs": [],
   "source": [
    "clusters.sort(key=lambda c: len(c), reverse=True)"
   ]
  },
  {
   "cell_type": "code",
   "execution_count": 19,
   "id": "85740afb",
   "metadata": {},
   "outputs": [
    {
     "name": "stdout",
     "output_type": "stream",
     "text": [
      "Cluster 1 (of size 11)\n",
      "\n",
      "DUNKIN', BASKIN ROBBINS (1147)\n",
      "DUNKIN, BASKIN ROBBINS (20)\n",
      "DUNKIN BASKIN ROBBINS (52)\n",
      "DUNKIN'  BASKIN ROBBINS (7)\n",
      "DUNKIN'/BASKIN ROBBINS (15)\n",
      "DUNKIN', BASKINS ROBBINS (19)\n",
      "DUNKIN  BASKIN ROBBINS (13)\n",
      "DUNKIN' & BASKIN ROBBINS (13)\n",
      "DUNKIN /BASKIN ROBBINS (9)\n",
      "DUNKIN BASKIN ROBINS (8)\n",
      "DUNKIN' BASKIN ROBBINS (6)\n",
      "\n",
      "Suggested value: DUNKIN', BASKIN ROBBINS\n",
      "\n",
      "\n",
      "Cluster 2 (of size 11)\n",
      "\n",
      "DUNKIN', BASKIN ROBBINS (1147)\n",
      "DUNKIN, BASKIN ROBBINS (20)\n",
      "DUNKIN BASKIN ROBBINS (52)\n",
      "DUNKIN' BASKIN ROBBINS (6)\n",
      "DUNKIN'/BASKIN ROBBINS (15)\n",
      "DUNKIN', BASKINS ROBBINS (19)\n",
      "DUNKIN  BASKIN ROBBINS (13)\n",
      "DUNKIN' & BASKIN ROBBINS (13)\n",
      "DUNKIN /BASKIN ROBBINS (9)\n",
      "DUNKIN  / BASKIN ROBBINS (2)\n",
      "DUNKIN'  BASKIN ROBBINS (7)\n",
      "\n",
      "Suggested value: DUNKIN', BASKIN ROBBINS\n",
      "\n",
      "\n",
      "Cluster 3 (of size 11)\n",
      "\n",
      "DUNKIN', BASKIN ROBBINS (1147)\n",
      "DUNKIN, BASKIN ROBBINS (20)\n",
      "DUNKIN BASKIN ROBBINS (52)\n",
      "DUNKIN' BASKIN ROBBINS (6)\n",
      "DUNKIN'  BASKIN ROBBINS (7)\n",
      "DUNKIN'/BASKIN ROBBINS (15)\n",
      "DUNKIN' & BASKIN ROBBINS (13)\n",
      "DUNKIN /BASKIN ROBBINS (9)\n",
      "DUNKIN BASKIN ROBINS (8)\n",
      "DUNKIN  / BASKIN ROBBINS (2)\n",
      "DUNKIN  BASKIN ROBBINS (13)\n",
      "\n",
      "Suggested value: DUNKIN', BASKIN ROBBINS\n",
      "\n",
      "\n",
      "Cluster 4 (of size 10)\n",
      "\n",
      "DUNKIN', BASKIN ROBBINS (1147)\n",
      "DUNKIN BASKIN ROBBINS (52)\n",
      "DUNKIN' BASKIN ROBBINS (6)\n",
      "DUNKIN'  BASKIN ROBBINS (7)\n",
      "DUNKIN'/BASKIN ROBBINS (15)\n",
      "DUNKIN', BASKINS ROBBINS (19)\n",
      "DUNKIN  BASKIN ROBBINS (13)\n",
      "DUNKIN /BASKIN ROBBINS (9)\n",
      "DUNKIN BASKIN ROBINS (8)\n",
      "DUNKIN, BASKIN ROBBINS (20)\n",
      "\n",
      "Suggested value: DUNKIN', BASKIN ROBBINS\n",
      "\n",
      "\n",
      "Cluster 5 (of size 9)\n",
      "\n",
      "DUNKIN, BASKIN ROBBINS (20)\n",
      "DUNKIN BASKIN ROBBINS (52)\n",
      "DUNKIN' BASKIN ROBBINS (6)\n",
      "DUNKIN'  BASKIN ROBBINS (7)\n",
      "DUNKIN'/BASKIN ROBBINS (15)\n",
      "DUNKIN', BASKINS ROBBINS (19)\n",
      "DUNKIN  BASKIN ROBBINS (13)\n",
      "DUNKIN' & BASKIN ROBBINS (13)\n",
      "DUNKIN', BASKIN ROBBINS (1147)\n",
      "\n",
      "Suggested value: DUNKIN', BASKIN ROBBINS\n",
      "\n",
      "\n",
      "Cluster 6 (of size 9)\n",
      "\n",
      "DUNKIN', BASKIN ROBBINS (1147)\n",
      "DUNKIN, BASKIN ROBBINS (20)\n",
      "DUNKIN' BASKIN ROBBINS (6)\n",
      "DUNKIN'  BASKIN ROBBINS (7)\n",
      "DUNKIN'/BASKIN ROBBINS (15)\n",
      "DUNKIN  BASKIN ROBBINS (13)\n",
      "DUNKIN /BASKIN ROBBINS (9)\n",
      "DUNKIN BASKIN ROBINS (8)\n",
      "DUNKIN BASKIN ROBBINS (52)\n",
      "\n",
      "Suggested value: DUNKIN', BASKIN ROBBINS\n",
      "\n",
      "\n",
      "Cluster 7 (of size 9)\n",
      "\n",
      "DUNKIN, BASKIN ROBBINS (20)\n",
      "DUNKIN BASKIN ROBBINS (52)\n",
      "DUNKIN' BASKIN ROBBINS (6)\n",
      "DUNKIN'  BASKIN ROBBINS (7)\n",
      "DUNKIN'/BASKIN ROBBINS (15)\n",
      "DUNKIN  BASKIN ROBBINS (13)\n",
      "DUNKIN BASKIN ROBINS (8)\n",
      "DUNKIN  / BASKIN ROBBINS (2)\n",
      "DUNKIN /BASKIN ROBBINS (9)\n",
      "\n",
      "Suggested value: DUNKIN BASKIN ROBBINS\n",
      "\n",
      "\n",
      "Cluster 8 (of size 8)\n",
      "\n",
      "DUNKIN', BASKIN ROBBINS (1147)\n",
      "DUNKIN, BASKIN ROBBINS (20)\n",
      "DUNKIN BASKIN ROBBINS (52)\n",
      "DUNKIN' BASKIN ROBBINS (6)\n",
      "DUNKIN'  BASKIN ROBBINS (7)\n",
      "DUNKIN  BASKIN ROBBINS (13)\n",
      "DUNKIN /BASKIN ROBBINS (9)\n",
      "DUNKIN'/BASKIN ROBBINS (15)\n",
      "\n",
      "Suggested value: DUNKIN', BASKIN ROBBINS\n",
      "\n",
      "\n",
      "Cluster 9 (of size 6)\n",
      "\n",
      "DUNKIN', BASKIN ROBBINS (1147)\n",
      "DUNKIN' BASKIN ROBBINS (6)\n",
      "DUNKIN'  BASKIN ROBBINS (7)\n",
      "DUNKIN  BASKIN ROBBINS (13)\n",
      "DUNKIN  / BASKIN ROBBINS (2)\n",
      "DUNKIN' & BASKIN ROBBINS (13)\n",
      "\n",
      "Suggested value: DUNKIN', BASKIN ROBBINS\n",
      "\n",
      "\n",
      "Cluster 10 (of size 6)\n",
      "\n",
      "DUNKIN, BASKIN ROBBINS (20)\n",
      "DUNKIN BASKIN ROBBINS (52)\n",
      "DUNKIN' BASKIN ROBBINS (6)\n",
      "DUNKIN  BASKIN ROBBINS (13)\n",
      "DUNKIN /BASKIN ROBBINS (9)\n",
      "DUNKIN BASKIN ROBINS (8)\n",
      "\n",
      "Suggested value: DUNKIN BASKIN ROBBINS\n",
      "\n",
      "\n",
      "Cluster 11 (of size 6)\n",
      "\n",
      "CITI FIELD STAND 321 (6)\n",
      "CITI FIELD STAND 121 (5)\n",
      "CITI FIELD STAND 425 (6)\n",
      "CITI FIELD STAND 431 (5)\n",
      "CITI FIELD STAND 423 (6)\n",
      "CITI FIELD STAND 421 (7)\n",
      "\n",
      "Suggested value: CITI FIELD STAND 421\n",
      "\n",
      "\n",
      "Cluster 12 (of size 6)\n",
      "\n",
      "CITI FIELD STAND 335 (4)\n",
      "CITI FIELD STAND 415 (5)\n",
      "CITI FIELD STAND 425 (6)\n",
      "CITI FIELD STAND 433 (4)\n",
      "CITI FIELD STAND 431 (5)\n",
      "CITI FIELD STAND 435 (4)\n",
      "\n",
      "Suggested value: CITI FIELD STAND 425\n",
      "\n",
      "\n",
      "Cluster 13 (of size 5)\n",
      "\n",
      "CHIPOTLE MEXICAN GRILL #2308 (6)\n",
      "CHIPOTLE MEXICAN GRILL #2834 (8)\n",
      "CHIPOTLE MEXICAN GRILL #2918 (3)\n",
      "CHIPOTLE MEXICAN GRILL #2879 (3)\n",
      "CHIPOTLE MEXICAN GRILL #2838 (7)\n",
      "\n",
      "Suggested value: CHIPOTLE MEXICAN GRILL #2834\n",
      "\n",
      "\n",
      "Cluster 14 (of size 5)\n",
      "\n",
      "DUNKIN', BASKIN ROBBINS (1147)\n",
      "DUNKIN, BASKIN ROBBINS (20)\n",
      "DUNKIN' BASKIN ROBBINS (6)\n",
      "DUNKIN'  BASKIN ROBBINS (7)\n",
      "DUNKIN', BASKINS ROBBINS (19)\n",
      "\n",
      "Suggested value: DUNKIN', BASKIN ROBBINS\n",
      "\n",
      "\n",
      "Cluster 15 (of size 5)\n",
      "\n",
      "DUNKIN'  BASKIN ROBBINS (7)\n",
      "DUNKIN  BASKIN ROBBINS (13)\n",
      "DUNKIN' & BASKIN ROBBINS (13)\n",
      "DUNKIN /BASKIN ROBBINS (9)\n",
      "DUNKIN  / BASKIN ROBBINS (2)\n",
      "\n",
      "Suggested value: DUNKIN  BASKIN ROBBINS\n",
      "\n",
      "\n",
      "Cluster 16 (of size 5)\n",
      "\n",
      "SERVICE BAR 6 (10)\n",
      "SERVICE BAR 8 (5)\n",
      "SERVICE BAR 5 (6)\n",
      "SERVICE BAR 3 (5)\n",
      "SERVICE BAR 7 (3)\n",
      "\n",
      "Suggested value: SERVICE BAR 6\n",
      "\n",
      "\n",
      "Cluster 17 (of size 5)\n",
      "\n",
      "SERVICE BAR 7 (3)\n",
      "SERVICE BAR 8 (5)\n",
      "SERVICE BAR 5 (6)\n",
      "SERVICE BAR 3 (5)\n",
      "SERVICE BAR 6 (10)\n",
      "\n",
      "Suggested value: SERVICE BAR 6\n",
      "\n",
      "\n",
      "Cluster 18 (of size 5)\n",
      "\n",
      "SERVICE BAR 7 (3)\n",
      "SERVICE BAR 6 (10)\n",
      "SERVICE BAR 5 (6)\n",
      "SERVICE BAR 3 (5)\n",
      "SERVICE BAR 8 (5)\n",
      "\n",
      "Suggested value: SERVICE BAR 6\n",
      "\n",
      "\n",
      "Cluster 19 (of size 5)\n",
      "\n",
      "SERVICE BAR 7 (3)\n",
      "SERVICE BAR 6 (10)\n",
      "SERVICE BAR 8 (5)\n",
      "SERVICE BAR 3 (5)\n",
      "SERVICE BAR 5 (6)\n",
      "\n",
      "Suggested value: SERVICE BAR 6\n",
      "\n",
      "\n",
      "Cluster 20 (of size 5)\n",
      "\n",
      "SERVICE BAR 7 (3)\n",
      "SERVICE BAR 6 (10)\n",
      "SERVICE BAR 8 (5)\n",
      "SERVICE BAR 5 (6)\n",
      "SERVICE BAR 3 (5)\n",
      "\n",
      "Suggested value: SERVICE BAR 6\n",
      "\n",
      "\n",
      "Cluster 21 (of size 5)\n",
      "\n",
      "CITI FIELD STAND 421 (7)\n",
      "CITI FIELD STAND 435 (4)\n",
      "CITI FIELD STAND 415 (5)\n",
      "CITI FIELD STAND 423 (6)\n",
      "CITI FIELD STAND 425 (6)\n",
      "\n",
      "Suggested value: CITI FIELD STAND 421\n",
      "\n",
      "\n"
     ]
    }
   ],
   "source": [
    "for i, cluster in enumerate(clusters):\n",
    "    print_cluster(i + 1, cluster)"
   ]
  },
  {
   "cell_type": "code",
   "execution_count": null,
   "id": "c40991e1",
   "metadata": {},
   "outputs": [],
   "source": []
  }
 ],
 "metadata": {
  "kernelspec": {
   "display_name": "Python 3 (ipykernel)",
   "language": "python",
   "name": "python3"
  },
  "language_info": {
   "codemirror_mode": {
    "name": "ipython",
    "version": 3
   },
   "file_extension": ".py",
   "mimetype": "text/x-python",
   "name": "python",
   "nbconvert_exporter": "python",
   "pygments_lexer": "ipython3",
   "version": "3.8.13"
  }
 },
 "nbformat": 4,
 "nbformat_minor": 5
}
